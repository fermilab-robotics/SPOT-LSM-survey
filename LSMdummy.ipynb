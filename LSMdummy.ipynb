{
 "cells": [
  {
   "cell_type": "code",
   "execution_count": 10,
   "metadata": {},
   "outputs": [],
   "source": [
    "import bosdyn\n",
    "import bosdyn.client\n",
    "import time\n",
    "import datetime\n",
    "from numpy import random \n",
    "import csv\n"
   ]
  },
  {
   "cell_type": "code",
   "execution_count": 1,
   "metadata": {},
   "outputs": [],
   "source": [
    "import pickle\n",
    "dbifle= open('example',ab)"
   ]
  },
  {
   "cell_type": "code",
   "execution_count": 28,
   "metadata": {},
   "outputs": [
    {
     "data": {
      "text/plain": [
       "15"
      ]
     },
     "execution_count": 28,
     "metadata": {},
     "output_type": "execute_result"
    }
   ],
   "source": [
    "#create a csv dummy file for digitized LSM data with a timestamp \n",
    "#First, open the CSV file to write \n",
    "f= open('/workspaces/spot-dev-environment/LSMdata.csv','w')\n",
    "writer=csv.writer(f)\n",
    "header=['LSM data','TIME']\n",
    "writer.writerow(header)\n"
   ]
  },
  {
   "cell_type": "code",
   "execution_count": 43,
   "metadata": {},
   "outputs": [],
   "source": [
    "#generate random LSM data \n",
    "def dataGenerate():\n",
    "    data=random.uniform(1.5,20.5)\n",
    "    return data \n",
    "    "
   ]
  },
  {
   "cell_type": "code",
   "execution_count": 39,
   "metadata": {},
   "outputs": [],
   "source": [
    "#get timestamp \n",
    "def GetTime(): \n",
    "    time=datetime.datetime.now() \n",
    "    return time\n"
   ]
  },
  {
   "cell_type": "code",
   "execution_count": 31,
   "metadata": {},
   "outputs": [
    {
     "name": "stdout",
     "output_type": "stream",
     "text": [
      "time:2022-07-13 11:54:47.423902\n"
     ]
    }
   ],
   "source": [
    "print(\"time:\"+str(GetTime()))"
   ]
  },
  {
   "cell_type": "code",
   "execution_count": 44,
   "metadata": {},
   "outputs": [
    {
     "name": "stdout",
     "output_type": "stream",
     "text": [
      "2022-07-13 12:08:44.897774\n",
      "19.07511184269518\n"
     ]
    }
   ],
   "source": [
    "print(GetTime())\n",
    "print(dataGenerate())"
   ]
  },
  {
   "cell_type": "code",
   "execution_count": 46,
   "metadata": {},
   "outputs": [],
   "source": [
    "def writeToCSV(path): \n",
    "    f=open(path,'w')\n",
    "    fields=['LSM data','TIME']\n",
    "    writer=csv.writer(f)\n",
    "    writer.writerow(fields)\n",
    "    for i in range (4): \n",
    "        listDATA=[]\n",
    "        listDATA.append(dataGenerate())\n",
    "        listTIME=[]\n",
    "        listTIME.append(GetTime())\n",
    "        writer.writerows(zip(listDATA,listTIME))     "
   ]
  },
  {
   "cell_type": "code",
   "execution_count": 47,
   "metadata": {},
   "outputs": [],
   "source": [
    "writeToCSV('/workspaces/spot-dev-environment/LSMdata.csv')"
   ]
  },
  {
   "cell_type": "code",
   "execution_count": 41,
   "metadata": {},
   "outputs": [
    {
     "name": "stdout",
     "output_type": "stream",
     "text": [
      "{'LSM read': 9.39270695667413, 'Time': '2022-07-13 12:07:42.588271'}\n"
     ]
    }
   ],
   "source": [
    "list=[]\n",
    "entry={'LSM read': dataGenerate()[0],'Time':str(GetTime())}\n",
    "print(entry)"
   ]
  }
 ],
 "metadata": {
  "kernelspec": {
   "display_name": "Python 3.7.13 64-bit",
   "language": "python",
   "name": "python3"
  },
  "language_info": {
   "codemirror_mode": {
    "name": "ipython",
    "version": 3
   },
   "file_extension": ".py",
   "mimetype": "text/x-python",
   "name": "python",
   "nbconvert_exporter": "python",
   "pygments_lexer": "ipython3",
   "version": "3.7.13"
  },
  "orig_nbformat": 4,
  "vscode": {
   "interpreter": {
    "hash": "949777d72b0d2535278d3dc13498b2535136f6dfe0678499012e853ee9abcab1"
   }
  }
 },
 "nbformat": 4,
 "nbformat_minor": 2
}
