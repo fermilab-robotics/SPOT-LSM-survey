{
 "cells": [
  {
   "cell_type": "code",
   "execution_count": 3,
   "metadata": {},
   "outputs": [],
   "source": [
    "import time\n",
    "import bosdyn.client \n",
    "from bosdyn.client import create_standard_sdk\n",
    "from bosdyn.client.robot_state import RobotStateClient\n",
    "from bosdyn.client.robot_id import RobotIdClient "
   ]
  },
  {
   "cell_type": "code",
   "execution_count": 4,
   "metadata": {},
   "outputs": [],
   "source": [
    "#Robot Kinematic State with tranform snapshop & timestamp \n",
    "class KRobotState:\n",
    "    def __init__(self,robot): \n",
    "        self._robot=robot\n",
    "        self._robot_state_client=robot.ensure_client(RobotStateClient.default_service_name) \n",
    "        self.RobotState=self._robot_state_client.get_robot_state()\n",
    "        self._transformSnapshot=None\n",
    "        self._RobotTime=None \n",
    "    def getTransformSnapshot(self): \n",
    "        self._transformSnapshot= self.RobotState.kinematic_state().transforms_snapshot\n",
    "        return  self._transformSnapshot\n",
    "    def GetTimeStamp(self): \n",
    "        self._RobotTime=self.RobotState.kinematic_state().acquisition_timestamp\n",
    "        return self._RobotTime "
   ]
  },
  {
   "cell_type": "code",
   "execution_count": 21,
   "metadata": {},
   "outputs": [],
   "source": [
    "from bosdyn.client.frame_helpers import get_a_tform_b \n",
    "from bosdyn.client.frame_helpers import VISION_FRAME_NAME,ODOM_FRAME_NAME"
   ]
  },
  {
   "cell_type": "code",
   "execution_count": 1,
   "metadata": {},
   "outputs": [],
   "source": [
    "#Location data with methods for tranforming from SPOT's Odom and Vision frames\n",
    "class Location():\n",
    "    fromOdom=[]\n",
    "    fromVision=[]\n",
    "    Time=[]\n",
    "    def _init_(self,robot,ToFrame=\"body\"):\n",
    "        self.RobotState=KRobotState(robot)\n",
    "        self.FromFrame=None \n",
    "        self.ToFrame=ToFrame\n",
    "        self.TransformSnapshot=None\n",
    "        self.fiducial_objects=None\n",
    "    def OdomTransform(self): \n",
    "        if  self.fiducial_objects!= None:\n",
    "            self.FromFrame=ODOM_FRAME_NAME\n",
    "        else:\n",
    "            self.FromFrame=\"odom\"\n",
    "            self.TransformSnapshot=self.RobotState.getTransformSnapshot()\n",
    "            odom=get_a_tform_b(self.TransformSnapshot,self.FromFrame,self.ToFrame)\n",
    "            self.fromOdom.append(odom) \n",
    "    def VisionTransform(self): \n",
    "        if  self.fiducial_objects!= None:\n",
    "            self.FromFrame=VISION_FRAME_NAME\n",
    "        else: \n",
    "            self.FromFrame=\"vision\"\n",
    "            vision=get_a_tform_b(self.TransformSnapshot,self.FromFrame,self.ToFrame)\n",
    "            self.fromVision.append(vision)\n",
    "    def TimeStamp(self): \n",
    "        self.Time.append(self.RobotState.GetTimeStamp())\n",
    "        \n",
    "            "
   ]
  },
  {
   "cell_type": "code",
   "execution_count": 10,
   "metadata": {},
   "outputs": [],
   "source": [
    "import datetime"
   ]
  },
  {
   "cell_type": "code",
   "execution_count": 4,
   "metadata": {},
   "outputs": [],
   "source": [
    "#robot location data \n",
    "class RobotLocation(Location):\n",
    "    def __init__(self,robot):\n",
    "       super()._init_(robot) \n",
    "    def start(self): \n",
    "      self.OdomTransform()\n",
    "      self.VisionTransform()\n",
    "      self.TimeStamp()\n",
    "         "
   ]
  },
  {
   "cell_type": "code",
   "execution_count": 15,
   "metadata": {},
   "outputs": [],
   "source": [
    "from bosdyn.client.world_object import WorldObjectClient \n",
    "from bosdyn.api import world_object_pb2"
   ]
  },
  {
   "cell_type": "code",
   "execution_count": 2,
   "metadata": {},
   "outputs": [],
   "source": [
    "#april tag location data \n",
    "class AprilTag(Location): \n",
    "    def __init__(self,robot):\n",
    "        self.world_object_client=robot.ensure_client(WorldObjectClient.default_service_name)\n",
    "        self.fiducial_objects=None\n",
    "        self.ToFrame= None \n",
    "        super().__init__(robot)\n",
    "    #request Tag\n",
    "    def RequestFiducial(self): \n",
    "        request_fiducials=[world_object_pb2.WORLD_OBJECT_APRILTAG]\n",
    "        self.fiducial_objects=self.world_object_client.list_world_objects(object_type=request_fiducials).world_objects\n",
    "        return self.fiducial_objects\n",
    "    def AprilOdomTransform(self): \n",
    "        if  self.fiducial_objects != None:\n",
    "            super().OdomTransform()\n",
    "            for fiducial in self.fiducial_objects:\n",
    "                self.ToFrame=fiducial.apriltag_properties.frame_name_fiducial\n",
    "                self.TransformSnapshot= fiducial.transforms_snapshot\n",
    "                odom=get_a_tform_b(self.TransformSnapshot,super().FromFrame,self.ToFrame) \n",
    "                self.fromOdom.append(odom) \n",
    "    def AprilVisionTransform(self): \n",
    "        if  self.fiducial_objects != None:\n",
    "            super().VisionTransform()\n",
    "            for fiducial in self.fiducial_objects:\n",
    "                self.ToFrame=fiducial.apriltag_properties.frame_name_fiducial\n",
    "                self.TransformSnapshot= fiducial.transforms_snapshot\n",
    "                vision=get_a_tform_b(self.TransformSnapshot,super().FromFrame,self.ToFrame)\n",
    "                self.fromOdom.append(vision)    \n",
    "    def TagTime(self):\n",
    "        self.Time.append(datetime.datetime.now()) \n",
    "    def start(self): \n",
    "        self.RequestFiducial()\n",
    "        self.AprilOdomTransform()\n",
    "        self.AprilVisionTransform()\n",
    "        self.TagTime() \n",
    "\n",
    "\n",
    "    "
   ]
  },
  {
   "cell_type": "code",
   "execution_count": 2,
   "metadata": {},
   "outputs": [],
   "source": [
    "import bosdyn.client.util"
   ]
  },
  {
   "cell_type": "code",
   "execution_count": 3,
   "metadata": {},
   "outputs": [],
   "source": [
    "import argparse\n",
    "import pickle \n",
    "def main(argv):\n",
    "    parser=argparse.ArgumentParser()\n",
    "    bosdyn.client.util.add_common_arguments(parser)\n",
    "    parser.add_argument('--vs',action='store_true',default=False)\n",
    "    options=parser.parse_args(argv)\n",
    "#create robot object to invoke SPOT    \n",
    "    sdk=create_standard_sdk('test')\n",
    "    robot=sdk.create_robot(options.host_name)\n",
    "    robot.authenticate(options.username, options.password)\n",
    "#time sync \n",
    "    robot.time_sync.wait_for_sync() \n",
    "#create object to obtain Location Data\n",
    "    robot_localization= RobotLocation(robot)\n",
    "    fiducial_localization= AprilTag(robot)\n",
    "#log robot info \n",
    "    \n",
    "    try: \n",
    "        while True: \n",
    "            input('Press Enter to log robot and fiducial positions...')\n",
    "            robot_localization.start()\n",
    "            fiducial_localization.start()\n",
    "            with open('RobotData.pickle','wb') as Robotfile: \n",
    "                pickle.dump(robot_localization, Robotfile)\n",
    "            with open('TagData.pickle','wb') as Tagfile: \n",
    "                pickle.dump(fiducial_localization, Tagfile)\n",
    "\n",
    "    except KeyboardInterrupt: \n",
    "        print(\"Caught Keyboard Interupt, exitting\")\n",
    "        return True \n",
    "\n",
    "    \n",
    "\n",
    "\n",
    "\n",
    "\n",
    "\n",
    "\n",
    "\n",
    "\n",
    "    \n",
    "    "
   ]
  },
  {
   "cell_type": "code",
   "execution_count": 11,
   "metadata": {},
   "outputs": [
    {
     "name": "stdout",
     "output_type": "stream",
     "text": [
      "[None]\n"
     ]
    }
   ],
   "source": [
    "class dummy:\n",
    "    Alist=[]\n",
    "    def __init__(self,id,tag=None):\n",
    "        self.id=id \n",
    "        self.var1=id+1\n",
    "        self.tag=tag\n",
    "    def meth(self):\n",
    "        if self.tag != None:\n",
    "            print(\" tag detected\") \n",
    "        return self.var1\n",
    "\n",
    "class dummy2(dummy): \n",
    "    def __init__(self,id): \n",
    "        super().__init__(id)\n",
    "        self.tag=None \n",
    "    def requestTag(self): \n",
    "        listTag=[1,2,3,4]\n",
    "        self.tag=len(listTag)\n",
    "        return self.tag \n",
    "    def meth2(self): \n",
    "        a= super().meth()\n",
    "        self.Alist.append(self.tag)\n",
    "        print(self.Alist)\n",
    "#TEST     \n",
    "obj=dummy2(15)\n",
    "#obj.requestTag()\n",
    "obj.meth2()"
   ]
  }
 ],
 "metadata": {
  "kernelspec": {
   "display_name": "Python 3.7.12 64-bit",
   "language": "python",
   "name": "python3"
  },
  "language_info": {
   "codemirror_mode": {
    "name": "ipython",
    "version": 3
   },
   "file_extension": ".py",
   "mimetype": "text/x-python",
   "name": "python",
   "nbconvert_exporter": "python",
   "pygments_lexer": "ipython3",
   "version": "3.7.12"
  },
  "orig_nbformat": 4,
  "vscode": {
   "interpreter": {
    "hash": "aee8b7b246df8f9039afb4144a1f6fd8d2ca17a180786b69acc140d282b71a49"
   }
  }
 },
 "nbformat": 4,
 "nbformat_minor": 2
}
